{
 "cells": [
  {
   "cell_type": "markdown",
   "metadata": {},
   "source": [
    "# Rank\n",
    "\n",
    "The **rank**, $r$, of a matrix is the number of pivots produced during elimination."
   ]
  },
  {
   "cell_type": "markdown",
   "metadata": {},
   "source": [
    "# Linear Independence\n",
    "\n",
    "Here are two matrices in $\\mathbf{R^3}$\n",
    "\n",
    "\\begin{align}\n",
    "A &= \n",
    "\\begin{bmatrix}\n",
    "1 && 1 && 1 \\\\\n",
    "1 && 1 && 0 \\\\\n",
    "1 && 0 && 0\n",
    "\\end{bmatrix} &=&\n",
    "\\begin{bmatrix}\n",
    "\\vec{v_1} && \\vec{v_2} && \\vec{v_3}\n",
    "\\end{bmatrix}\n",
    "\\\\\n",
    "B &= \n",
    "\\begin{bmatrix}\n",
    "1 && 1 \\\\\n",
    "1 && 1 \\\\\n",
    "1 && 0\n",
    "\\end{bmatrix} &=&\n",
    "\\begin{bmatrix}\n",
    "\\vec{v_1} && \\vec{v_2}\n",
    "\\end{bmatrix}\n",
    "\\end{align}\n",
    "\n",
    "The vectors $\\vec{v_1}$, $\\vec{v_2}$, and $\\vec{v_3}$ are **linearly independent** when the only solution to $A\\vec{x}=0$ is the zero vector.\n",
    "\n",
    "In this case, all three vectors are linearly independent. We cannot make any of the three vectors using linear combinations of the others. \n",
    "\n",
    "When doing elmination, we get one pivot for every linearly independent column.\n",
    "\n",
    "Geometrically:\n",
    "- Dependent vectors in $\\mathbf{R^3}$ can lie on a plane (or a line, or the nullspace)\n",
    "- Three vectors in $\\mathbf{R^3}$ that are linearly dependent cannot span all of $\\mathbf{R^3}$\n",
    "- Dependent vectors in $\\mathbf{R^2}$ will can lie on a line\n",
    "\n",
    "\n",
    "## Full column rank\n",
    "\n",
    "The columns of $A$ are linearly independent exactly when every column has a  pivot $r=n$. This could be a tall skinny matrix.\n",
    "\n",
    "Wide matrices ($n > m$) are gauranteed to have dependent columns.\n"
   ]
  },
  {
   "cell_type": "markdown",
   "metadata": {
    "collapsed": true
   },
   "source": [
    "# Basis for a Vector Space\n",
    "\n",
    "A **basis** for a vector space is a sequence of independent vectors that span that space.\n",
    "\n",
    "The vectors $\\vec{v_1} \\ldots \\vec{v_n}$ are a basis for $\\mathbf{R^n}$ exactly when they are the columns of an $n$ bu $n$ invertible matrix.\n",
    "\n",
    "- The pivot columns of $A$ are a basis for the column space of $A$\n",
    "- The pivot rows of $A$ are a basis for the row space\n",
    "- The pivot rows of the echelon form, $R$,  are a basis for the row space (p. 173)\n",
    "  - $A$ and $R$ have the same row space, but not the same column space\n"
   ]
  },
  {
   "cell_type": "markdown",
   "metadata": {},
   "source": [
    "# Dimension of a Vector Space\n",
    "\n",
    "The dimension of a space is the number of vectors needed to span that space.\n",
    "\n",
    "If our subspace in a plane in $\\mathbf{R^3}$, the dimension is $2$ (even though we are in $\\mathbf{R^3}$).\n",
    "\n",
    "The dimension of the column space equals the rank of the matrix.\n"
   ]
  },
  {
   "cell_type": "markdown",
   "metadata": {},
   "source": [
    "# Dimensions of the Four Subspaces of $A$\n",
    "\n",
    "The row and the column space have the same dimension.\n",
    "\n",
    "- If the columns space of $A$ is 3 dimensional, the row space is also 3 dimensional\n",
    "- The column left nullspace is \n",
    "\n",
    "Consider this 4 by 3 matrix:\n",
    "\n",
    "\\begin{align*}\n",
    "\n",
    "\\begin{bmatrix}\n",
    "1 && 1 && 1 \\\\\n",
    "1 && 1 && 0 \\\\\n",
    "1 && 0 && 0 \\\\\n",
    "0 && 0 && 0 \n",
    "\\end{bmatrix}\n",
    "\\end{align*}\n",
    "\n",
    "\\begin{align*}\n",
    "\\text{Rank} = r &= 3 \\\\\n",
    "\\text{Dimension of the column space } = r &= 3\\\\\n",
    "\\text{Dimension of the row space} = r &= 3 \\\\\n",
    "\\text{Dimension of the null space} = n - r = 3 - 3 &= 0 \\text{ in } \\mathbf{R^m} = \\mathbf{R^4} \\\\\n",
    "\\text{Dimension of the left null space} = m - r = 4 - 3 &= 1 \\text{ in } \\mathbf{R^n} = \\mathbf{R^3} \n",
    "\\end{align*}\n"
   ]
  },
  {
   "cell_type": "markdown",
   "metadata": {},
   "source": []
  }
 ],
 "metadata": {
  "kernelspec": {
   "display_name": "Python 3",
   "language": "python",
   "name": "python3"
  },
  "language_info": {
   "codemirror_mode": {
    "name": "ipython",
    "version": 3
   },
   "file_extension": ".py",
   "mimetype": "text/x-python",
   "name": "python",
   "nbconvert_exporter": "python",
   "pygments_lexer": "ipython3",
   "version": "3.4.3"
  }
 },
 "nbformat": 4,
 "nbformat_minor": 0
}
