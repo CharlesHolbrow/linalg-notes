{
 "cells": [
  {
   "cell_type": "markdown",
   "metadata": {},
   "source": [
    "# Rank\n",
    "\n",
    "The **rank**, $r$, of a matrix is the number of pivots produced during elimination."
   ]
  },
  {
   "cell_type": "markdown",
   "metadata": {},
   "source": [
    "# Linear Independence\n",
    "\n",
    "Here are two matrices in $\\mathbf{R^3}$\n",
    "\n",
    "\\begin{align}\n",
    "A &= \n",
    "\\begin{bmatrix}\n",
    "1 && 1 && 1 \\\\\n",
    "1 && 1 && 0 \\\\\n",
    "1 && 0 && 0\n",
    "\\end{bmatrix} &=&\n",
    "\\begin{bmatrix}\n",
    "\\vec{v_1} && \\vec{v_2} && \\vec{v_3}\n",
    "\\end{bmatrix}\n",
    "\\\\\n",
    "B &= \n",
    "\\begin{bmatrix}\n",
    "1 && 1 \\\\\n",
    "1 && 1 \\\\\n",
    "1 && 0\n",
    "\\end{bmatrix} &=&\n",
    "\\begin{bmatrix}\n",
    "\\vec{v_1} && \\vec{v_2}\n",
    "\\end{bmatrix}\n",
    "\\end{align}\n",
    "\n",
    "The vectors $\\vec{v_1}$, $\\vec{v_2}$, and $\\vec{v_3}$ are **linearly independent** when the only solution to $A\\vec{x}=0$ is the zero vector.\n",
    "\n",
    "In this case, all three vectors are linearly independent. We cannot make any of the three vectors using linear combinations of the others. \n",
    "\n",
    "Geometrically:\n",
    "- **Dependent** vectors in $\\mathbf{R^3}$ will lie on a plane.\n",
    "- **Dependent** vectors in $\\mathbf{R^2}$ will lie on a line.\n",
    "\n",
    "## Full column rank\n",
    "\n",
    "The columns of $A$ are linearly independent exactly when every column has a  pivot $r=n$. This could be a tall skinny matrix.\n",
    "\n",
    "Wide matrices ($n > m$) are gauranteed to have dependent columns.\n"
   ]
  },
  {
   "cell_type": "markdown",
   "metadata": {},
   "source": [
    "# Spanning a Space\n",
    "\n",
    "- A sequence of vectors (such as $\\vec{v_1}$, $\\vec{v_2}$, and $\\vec{v_3}$) **span**  a space.\n",
    "- For every vector sequence, we can describe the space that those vectors span. \n",
    "- That space consists of all linear combinations of the vectors\n",
    "\n",
    "If we have $n$ linearly independent vectors in $\\mathbf{R^n}$, those vectors span $\\mathbf{R^n}$. If we have fewer than $n$ linearly in dependent vectors, those vectors span a subspace of $\\mathbf{R^n}$."
   ]
  },
  {
   "cell_type": "markdown",
   "metadata": {},
   "source": [
    "# Row Space\n",
    "\n",
    "pdf page 182. \n"
   ]
  }
 ],
 "metadata": {
  "kernelspec": {
   "display_name": "Python 3",
   "language": "python",
   "name": "python3"
  },
  "language_info": {
   "codemirror_mode": {
    "name": "ipython",
    "version": 3
   },
   "file_extension": ".py",
   "mimetype": "text/x-python",
   "name": "python",
   "nbconvert_exporter": "python",
   "pygments_lexer": "ipython3",
   "version": "3.5.0"
  }
 },
 "nbformat": 4,
 "nbformat_minor": 0
}
