{
 "cells": [
  {
   "cell_type": "markdown",
   "metadata": {},
   "source": [
    "# Printing with Sympy\n",
    "\n",
    "Example of printing nice equations with sympy. \n",
    "\n",
    "Note that I had to update the sympy package to version `0.7.6.1` for this to work. If you are using [Anaconda](http://docs.continuum.io/anaconda/index), you can check your package version like this:\n",
    "\n",
    "```\n",
    "$ conda list | grep sympy\n",
    "sympy                     0.7.6                    py34_0    <unknown>\n",
    "$ conda update sympy\n",
    "```"
   ]
  },
  {
   "cell_type": "code",
   "execution_count": 7,
   "metadata": {
    "collapsed": false,
    "hide_input": false
   },
   "outputs": [
    {
     "data": {
      "text/latex": [
       "$$\\frac{\\sin{\\left (x^{\\frac{k}{n}} \\right )}}{y z}$$"
      ],
      "text/plain": [
       "   ⎛ k⎞\n",
       "   ⎜ ─⎟\n",
       "   ⎜ n⎟\n",
       "sin⎝x ⎠\n",
       "───────\n",
       "  y⋅z  "
      ]
     },
     "metadata": {},
     "output_type": "display_data"
    },
    {
     "data": {
      "text/latex": [
       "$$\\frac{\\sin{\\left (x^{\\frac{k}{n}} \\right )}}{y z}$$"
      ],
      "text/plain": [
       "   ⎛ k⎞\n",
       "   ⎜ ─⎟\n",
       "   ⎜ n⎟\n",
       "sin⎝x ⎠\n",
       "───────\n",
       "  y⋅z  "
      ]
     },
     "execution_count": 7,
     "metadata": {},
     "output_type": "execute_result"
    }
   ],
   "source": [
    "# Setup can also be accomplished with sympy.init_session()\n",
    "from __future__ import division\n",
    "from sympy import *\n",
    "x, y, z, t = symbols('x y z t')\n",
    "k, m, n = symbols('k m n', integer=True)\n",
    "f, g, h = symbols('f g h', cls=Function)\n",
    "init_printing(use_latex='mathjax')\n",
    "\n",
    "# To Explicitly print, we need this function from IPython\n",
    "from IPython.display import display\n",
    "\n",
    "a = sin(x**(k/n))/(y*z)\n",
    "display(a)\n",
    "a"
   ]
  },
  {
   "cell_type": "code",
   "execution_count": 2,
   "metadata": {
    "collapsed": false
   },
   "outputs": [
    {
     "data": {
      "text/plain": [
       "matrix([[3, 4, 4, 1]])"
      ]
     },
     "execution_count": 2,
     "metadata": {},
     "output_type": "execute_result"
    }
   ],
   "source": [
    "import numpy as np\n",
    "\n",
    "def translation_matrix(x=0, y=0, z=0):\n",
    "    return np.matrix([\n",
    "        [1, 0, 0, 0],\n",
    "        [0, 1, 0, 0],\n",
    "        [0, 0, 1, 0],\n",
    "        [x, y, z, 1]\n",
    "    ])\n",
    "\n",
    "p = np.matrix([2, 2, 1, 1])\n",
    "a = translation_matrix(1, 2, 3)\n",
    "r = p * a\n",
    "r"
   ]
  },
  {
   "cell_type": "markdown",
   "metadata": {},
   "source": [
    "\\begin{equation}\n",
    "\\begin{bmatrix}\n",
    "2 & 2 & 1 & 1\n",
    "\\end{bmatrix}\n",
    "\\begin{bmatrix}\n",
    "1 & 0 & 0 & 0 \\\\\n",
    "0 & 1 & 0 & 0 \\\\\n",
    "0 & 0 & 1 & 0 \\\\\n",
    "1 & 2 & 3 & 1\n",
    "\\end{bmatrix}=\n",
    "\\begin{bmatrix}\n",
    "3 & 4 & 4 & 1\n",
    "\\end{bmatrix}\n",
    "\\end{equation}"
   ]
  },
  {
   "cell_type": "code",
   "execution_count": 3,
   "metadata": {
    "collapsed": false
   },
   "outputs": [
    {
     "data": {
      "text/plain": [
       "matrix([[3, 4, 4, 1]])"
      ]
     },
     "execution_count": 3,
     "metadata": {},
     "output_type": "execute_result"
    }
   ],
   "source": [
    "r"
   ]
  }
 ],
 "metadata": {
  "kernelspec": {
   "display_name": "Python 3",
   "language": "python",
   "name": "python3"
  },
  "language_info": {
   "codemirror_mode": {
    "name": "ipython",
    "version": 3
   },
   "file_extension": ".py",
   "mimetype": "text/x-python",
   "name": "python",
   "nbconvert_exporter": "python",
   "pygments_lexer": "ipython3",
   "version": "3.4.3"
  }
 },
 "nbformat": 4,
 "nbformat_minor": 0
}
