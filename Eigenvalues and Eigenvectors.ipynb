{
 "cells": [
  {
   "cell_type": "markdown",
   "metadata": {},
   "source": [
    "# Eigenvalues and Eigenvectors\n",
    "\n",
    "All $n$ by $n$ matrices have $n$ eigenvalues.\n",
    " \n",
    "The sum of the eigenvalues is equal to the trace of the matrix (the sum down the diagonal).\n",
    "\n",
    "Assume:\n",
    "\n",
    "- $\\lambda$ is a scalar\n",
    "- $\\vec{x}$ is our eigenvector\n",
    "- $A$ is an $n$ by $n$ matrix.\n",
    "\n",
    "\\begin{align*}\n",
    "A\\vec{x} &= \\lambda\\vec{x}\\\\\n",
    "A\\vec{x} - \\lambda\\vec{x} &= 0\\\\\n",
    "(A - \\lambda I)\\vec{x} &= 0\n",
    "\\end{align*}\n",
    "\n",
    "Eigen vectors are defined as non-zero, so we are not interested in the case when $\\vec{x} = 0$. \n",
    "\n",
    "$\\vec{x}$ is some non-zero vector in the nullspace of $(A - \\lambda{}I)$. If $(A - \\lambda{}I)$  has vectors other than $0$ in the nullspace, it must be singular.\n",
    "\n",
    "We can find the singular matrices with\n",
    "$$det(A-\\lambda I) = 0$$\n",
    "\n",
    "### Find the Eigenvalues\n",
    "\n",
    "Find the eigenvalues for $\n",
    "A=\n",
    "\\begin{bmatrix}\n",
    "3 && 1 \\\\\n",
    "1 && 3\n",
    "\\end{bmatrix}\n",
    "$\n",
    "\n",
    "$$\n",
    "\\begin{align*}\n",
    "0 &= det(A-\\lambda{}I)\\\\\n",
    "0 &= \\begin{vmatrix}\n",
    "3-\\lambda && 1 \\\\\n",
    "1 && 3 - \\lambda\n",
    "\\end{vmatrix}\\\\\n",
    "0 &=(3-\\lambda{})^2-1\\\\\n",
    "0 &= 9 - 6\\lambda{} - \\lambda{}^2 - 1\\\\\n",
    "0 &= \\lambda{}^2 - 6\\lambda -8\\\\\n",
    "0 &= (\\lambda - 4)(\\lambda - 2)\n",
    "\\end{align*}\n",
    "$$\n",
    "\n",
    "So $\\lambda{}_1=2$ and $\\lambda{}_2=4$"
   ]
  },
  {
   "cell_type": "code",
   "execution_count": null,
   "metadata": {
    "collapsed": true
   },
   "outputs": [],
   "source": []
  }
 ],
 "metadata": {
  "kernelspec": {
   "display_name": "Python 3",
   "language": "python",
   "name": "python3"
  },
  "language_info": {
   "codemirror_mode": {
    "name": "ipython",
    "version": 3
   },
   "file_extension": ".py",
   "mimetype": "text/x-python",
   "name": "python",
   "nbconvert_exporter": "python",
   "pygments_lexer": "ipython3",
   "version": "3.5.0"
  }
 },
 "nbformat": 4,
 "nbformat_minor": 0
}
