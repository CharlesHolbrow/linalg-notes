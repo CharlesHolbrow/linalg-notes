{
 "cells": [
  {
   "cell_type": "markdown",
   "metadata": {},
   "source": [
    "# Renders With Incorrect Alignment\n",
    "\n",
    "\\begin{align}\n",
    "0 & = x_2 + 2    & \\implies & x_2 = -2 \\\\\n",
    "0 & = x_1 -2 + 1 & \\implies & x_1 = 1\n",
    "\\end{align}\n",
    "\n",
    "\\begin{align}\n",
    "0 &= x_2 + 2 &\\implies &x_2 = -2\\\\\n",
    "0 &= x_1 -2 + 1 &\\implies &x_1 = 1\n",
    "\\end{align}\n",
    "\n",
    "\\begin{align}\n",
    "0 & = x_2 + 2\\\\\n",
    "0 & = x_1 -2 + 1\n",
    "\\end{align}\n"
   ]
  }
 ],
 "metadata": {
  "kernelspec": {
   "display_name": "Python 3",
   "language": "python",
   "name": "python3"
  },
  "language_info": {
   "codemirror_mode": {
    "name": "ipython",
    "version": 3
   },
   "file_extension": ".py",
   "mimetype": "text/x-python",
   "name": "python",
   "nbconvert_exporter": "python",
   "pygments_lexer": "ipython3",
   "version": "3.4.3"
  }
 },
 "nbformat": 4,
 "nbformat_minor": 0
}
