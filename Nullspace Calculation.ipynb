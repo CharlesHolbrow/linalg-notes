{
 "cells": [
  {
   "cell_type": "markdown",
   "metadata": {},
   "source": [
    "# Calculating N(A)\n",
    "We want to find the nullspace of $A$\n",
    "\\begin{equation*}\n",
    "A = \\begin{bmatrix}\n",
    "1 & 1 & 1 & 1 \\\\\n",
    "1 & 2 & 3 & 4 \\\\\n",
    "4 & 3 & 2 & 1\n",
    "\\end{bmatrix}\n",
    "\\end{equation*}\n",
    "\n",
    "Elimination brings us to $U$\n",
    "\n",
    "\\begin{equation*}\n",
    "A \\implies\n",
    "\\begin{bmatrix}\n",
    "1 & 1 & 1 & 1 \\\\\n",
    "0 & 1 & 2 & 3 \\\\\n",
    "0 & -1 & -2 & -3 \n",
    "\\end{bmatrix}\n",
    "\\implies\n",
    "\\begin{bmatrix}\n",
    "1 & 1 & 1 & 1 \\\\\n",
    "0 & 1 & 2 & 3 \\\\\n",
    "0 & 0 & 0 & 0 \n",
    "\\end{bmatrix}\n",
    "=U\n",
    "\\end{equation*}\n",
    "\n",
    "We identify our *pivot columns* and our *free colums*. The pivot columns, $x_1$, and $x_2$ contain our pivots. The other columns, $x_3$ and $x_4$, are free. Now we have two choices: *Back Subsitution*, and solving by *row reduced echelon form*."
   ]
  },
  {
   "cell_type": "markdown",
   "metadata": {},
   "source": [
    "## Back Subsitution\n",
    "\n",
    "For each free column, set that col to 1, and all the other free columns to 0."
   ]
  },
  {
   "cell_type": "markdown",
   "metadata": {},
   "source": [
    "## Row Reduced Echelon Form\n",
    "\n",
    "...\n",
    "\n",
    "You **cannot** do back subsitution on a matrix in rref. This yeilds incorrect results."
   ]
  }
 ],
 "metadata": {
  "kernelspec": {
   "display_name": "Python 3",
   "language": "python",
   "name": "python3"
  },
  "language_info": {
   "codemirror_mode": {
    "name": "ipython",
    "version": 3
   },
   "file_extension": ".py",
   "mimetype": "text/x-python",
   "name": "python",
   "nbconvert_exporter": "python",
   "pygments_lexer": "ipython3",
   "version": "3.4.3"
  }
 },
 "nbformat": 4,
 "nbformat_minor": 0
}
