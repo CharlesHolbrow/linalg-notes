{
 "cells": [
  {
   "cell_type": "markdown",
   "metadata": {},
   "source": [
    "# Sequences\n",
    "\n",
    "A [sequence][1] is a (possibly infinite) set of numbers with a defined order.\n",
    "\n",
    "$$\n",
    "a_n = \\frac{1}{2^n}, \\textit{ for } n = 0, 1, 2, ...,\n",
    "$$\n",
    "\n",
    "[1]: http://www.synechism.org/wp/difference-equations-to-differential-equations/\n",
    "\n",
    "## Difference Equations\n",
    "\n",
    "A difference equation is a type of sequence. A difference equation expresses the value of the sequence relative to the value of another point in the sequence.\n",
    "\n",
    "$$\n",
    "x_{n+1} = 1.5x_n, \\textit{ for } n = 0, 1, 2, ...,\n",
    "$$\n",
    "\n",
    "To evaluate this equation at $n=3$ we need to know the initial value $x_0$, and evalueate $n=1, 2, 3$ in succession. For example, if $x_0=100$:\n",
    "\n",
    "\\begin{align}\n",
    "x_0 & && = 100 \\\\\n",
    "x_1 & = 1.5 \\times 100 && = 150\\\\\n",
    "x_2 & = 1.5 \\times 150 && = 225\\\\\n",
    "x_3 & = 1.5 \\times 225 && = 337.5\n",
    "\\end{align}\n",
    "\n",
    "In the example above, we evaluate the equation recursively. It would be better to be able to evaluate the equation at $n = 100$ without performing $100$ calculations. Note that we can also write the equation above in this form:\n",
    "\n",
    "$$\n",
    "x_3 = 100 \\times 1.5 \\times 1.5 \\times 1.5 = 337.5\n",
    "$$\n",
    "\n",
    "Solving a difference equation means writing the same equation such that it can be evaluated at a given $n$ without first evaluating $n=1,2,...$\n",
    "\n",
    "The solution to the equation above is:\n",
    "\n",
    "$$\n",
    "x_{n} = 1.5^{n} \\times x_0, \\textit{ for } n = 0, 1, 2, ...,\n",
    "$$\n",
    "\n",
    "### Second Order Difference Equations\n",
    "\n",
    "The previous example is a **first order difference equation** because it expresses the value of $x_n$ as a function of  one other sample, $x_{n-1}$. A **second order difference equation** is a function of two other samples, for example\n",
    "\n",
    "$$\n",
    "x_{n+2} = 1.5x_n + 1.4x_{n+1}, \\textit{ for } n = 0, 1, 2, ...,\n",
    "$$\n"
   ]
  },
  {
   "cell_type": "markdown",
   "metadata": {},
   "source": [
    "# Differential Equations\n",
    "\n",
    "Remember: The derivative with respect to $t$ of $e^{\\lambda{}t}$ is $\\lambda{}e^{\\lambda{}t}$"
   ]
  }
 ],
 "metadata": {
  "kernelspec": {
   "display_name": "Python 3",
   "language": "python",
   "name": "python3"
  },
  "language_info": {
   "codemirror_mode": {
    "name": "ipython",
    "version": 3
   },
   "file_extension": ".py",
   "mimetype": "text/x-python",
   "name": "python",
   "nbconvert_exporter": "python",
   "pygments_lexer": "ipython3",
   "version": "3.4.3"
  }
 },
 "nbformat": 4,
 "nbformat_minor": 0
}
