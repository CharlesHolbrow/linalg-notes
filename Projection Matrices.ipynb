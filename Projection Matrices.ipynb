{
 "cells": [
  {
   "cell_type": "markdown",
   "metadata": {},
   "source": [
    "# Projection Matrices\n",
    "\n",
    "```javascript\n",
    "var i;\n",
    "for (i = 0; i < 10; i++){\n",
    "    console.log('counting:', i);\n",
    "}\n",
    "```\n",
    "\n",
    "**Projec Onto a Line**\n",
    "\n",
    "$e=b-p$\n",
    "\n",
    "$e=b-\\hat{x}a$\n",
    "\n"
   ]
  },
  {
   "cell_type": "code",
   "execution_count": 81,
   "metadata": {
    "collapsed": false
   },
   "outputs": [
    {
     "data": {
      "image/png": "[encoded data removed]",
      "text/plain": [
       "<matplotlib.figure.Figure at 0x106b427f0>"
      ]
     },
     "metadata": {},
     "output_type": "display_data"
    }
   ],
   "source": [
    "%matplotlib inline\n",
    "\n",
    "import matplotlib\n",
    "import numpy as np\n",
    "import matplotlib.pyplot as plt\n",
    "\n",
    "def join(*args): return np.concatenate(args)\n",
    "\n",
    "z = np.array([0., 0.])\n",
    "b = np.array([5., 6.])\n",
    "a = np.array([8., 2.])\n",
    "p = a * (a.dot(b)/a.dot(a))\n",
    "e = b - p\n",
    "\n",
    "data = np.array([ join(z, a), join(z, b), join(p, e), join(z,p) ])\n",
    "\n",
    "X,Y,U,V = zip(*data)\n",
    "# X is an array that contains the x positions of all the vectors\n",
    "# Y contains the y position\n",
    "# U, V are arrays containing horizontal and vertical values of all vectors\n",
    "\n",
    "plt.figure() # initialize the figure\n",
    "ax = plt.gca() # get current axes\n",
    "\n",
    "# Quiver Docs\n",
    "# http://matplotlib.org/api/pyplot_api.html#matplotlib.pyplot.quiver\n",
    "ax.quiver(X, Y, U, V, angles='xy', scale_units='xy', scale=1)\n",
    "ax.set_xlim([-1, 10])\n",
    "ax.set_ylim([-1, 10])\n",
    "ax.set_aspect(1.)\n",
    "\n",
    "\n",
    "# plt.axis('equal')\n",
    "plt.draw()"
   ]
  }
 ],
 "metadata": {
  "kernelspec": {
   "display_name": "Python 3",
   "language": "python",
   "name": "python3"
  },
  "language_info": {
   "codemirror_mode": {
    "name": "ipython",
    "version": 3
   },
   "file_extension": ".py",
   "mimetype": "text/x-python",
   "name": "python",
   "nbconvert_exporter": "python",
   "pygments_lexer": "ipython3",
   "version": "3.4.3"
  }
 },
 "nbformat": 4,
 "nbformat_minor": 0
}
