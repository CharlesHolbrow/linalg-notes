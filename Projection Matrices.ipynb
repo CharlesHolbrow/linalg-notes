{
 "cells": [
  {
   "cell_type": "markdown",
   "metadata": {},
   "source": [
    "# Projection Matrices"
   ]
  },
  {
   "cell_type": "code",
   "execution_count": 138,
   "metadata": {
    "collapsed": false
   },
   "outputs": [
    {
     "data": {
      "text/plain": [
       "<matplotlib.text.Text at 0x1088000b8>"
      ]
     },
     "execution_count": 138,
     "metadata": {},
     "output_type": "execute_result"
    },
    {
     "data": {
      "image/png": "[encoded data removed]",
      "text/plain": [
       "<matplotlib.figure.Figure at 0x108e080f0>"
      ]
     },
     "metadata": {},
     "output_type": "display_data"
    }
   ],
   "source": [
    "%matplotlib inline\n",
    "\n",
    "import matplotlib\n",
    "import numpy as np\n",
    "import matplotlib.pyplot as plt\n",
    "import math\n",
    "\n",
    "def pretti(v): return int(v) if v == math.floor(v) else v # print ints pretty\n",
    "def join(*args): return np.concatenate(args)\n",
    "def tos(v): return '(' + str(pretti(v[0])) + ', ' + str(pretti(v[1])) + ')'\n",
    "\n",
    "z = np.array([0, 0])\n",
    "b = np.array([5, 6])\n",
    "a = np.array([8, 2])\n",
    "p = a * (a.dot(b)/a.dot(a))\n",
    "e = b - p\n",
    "\n",
    "data = np.array([ join(z, a), join(z, b), join(p, e), join(z,p) ])\n",
    "\n",
    "X,Y,U,V = zip(*data)\n",
    "# X is an array that contains the x positions of all the vectors\n",
    "# Y contains the y position\n",
    "# U, V are arrays containing horizontal and vertical values of all vectors\n",
    "\n",
    "plt.figure(figsize=(6,6)) # initialize the figure\n",
    "ax = plt.gca() # get current axes\n",
    "\n",
    "# Quiver Docs\n",
    "# http://matplotlib.org/api/pyplot_api.html#matplotlib.pyplot.quiver\n",
    "ax.quiver(X, Y, U, V, angles='xy', scale_units='xy', scale=1)\n",
    "ax.set_xlim([-1, 10])\n",
    "ax.set_ylim([-1, 10])\n",
    "ax.set_aspect(1.)\n",
    "\n",
    "plt.text(5.7, 4, r'$e = b-p = b-\\hat{x}a$', size=18)\n",
    "plt.text(b[0], b[1] + 0.3 ,r'$b=' + tos(b) + '$', size=18)\n",
    "plt.text(a[0]-0.6, a[1] + 0.3 ,r'$a=' + tos(a) + '$', size=18)\n",
    "plt.text(p[0] - 0.3, p[1] - 0.8 ,r'$p=\\hat{x}a$', size=18)"
   ]
  },
  {
   "cell_type": "code",
   "execution_count": 158,
   "metadata": {
    "collapsed": false
   },
   "outputs": [
    {
     "data": {
      "text/latex": [
       "\n",
       "One way to setup the dot product \n",
       "\n",
       "\\begin{align}\n",
       "0 &= e\\bullet{}a && e \\text{ is perpendicular to $a$, so the dot product is zero}\\\\\n",
       "0 &= (b-\\hat{x}a)\\bullet{}a && \\text{notice } e = b-p = b-\\hat{x}a\\\\\n",
       "0 &= b\\bullet a - a \\hat{x}\\bullet a && \\text{distribute } a\\\\\n",
       "0 &= (b \\bullet a) - \\hat{x} (a \\bullet a)\\\\\n",
       "\\hat{x} (a \\bullet a) &= (b \\bullet a)\\\\\n",
       "\\hat{x} &= \\dfrac{a \\bullet b}{a \\bullet a}\n",
       "\\end{align}\n",
       "\n",
       "Projection \n",
       "Note that $\\hat{x}$ is just a scalar, so the last term can be written as $\\hat{x} a \\bullet a$\n",
       "\n",
       "But we can do it the other way around too\n",
       "\n",
       "$0 = a\\bullet (b-\\hat{x}a) = a\\bullet{}b - a\\bullet \\hat{x}a$\n",
       "\n",
       "Remember that $e$ is always a vector, and we are very interested in the vector between $b$ and our target, $a$\n",
       "\n",
       "Once we have $\\hat{x}$ it is very easy to find $p$. We see from the equations above that "
      ],
      "text/plain": [
       "<IPython.core.display.Latex object>"
      ]
     },
     "metadata": {},
     "output_type": "display_data"
    }
   ],
   "source": [
    "%%latex\n",
    "\n",
    "One way to setup the dot product \n",
    "\n",
    "\\begin{align}\n",
    "0 &= e\\bullet{}a && e \\text{ is perpendicular to $a$, so the dot product is zero}\\\\\n",
    "0 &= (b-\\hat{x}a)\\bullet{}a && \\text{notice } e = b-p = b-\\hat{x}a\\\\\n",
    "0 &= b\\bullet a - a \\hat{x}\\bullet a && \\text{distribute } a\\\\\n",
    "0 &= (b \\bullet a) - \\hat{x} (a \\bullet a)\\\\\n",
    "\\hat{x} (a \\bullet a) &= (b \\bullet a)\\\\\n",
    "\\hat{x} &= \\dfrac{a \\bullet b}{a \\bullet a}\n",
    "\\end{align}\n",
    "\n",
    "Projection \n",
    "Note that $\\hat{x}$ is just a scalar, so the last term can be written as $\\hat{x} a \\bullet a$\n",
    "\n",
    "But we can do it the other way around too\n",
    "\n",
    "$0 = a\\bullet (b-\\hat{x}a) = a\\bullet{}b - a\\bullet \\hat{x}a$\n",
    "\n",
    "Remember that $e$ is always a vector, and we are very interested in the vector between $b$ and our target, $a$\n",
    "\n",
    "Once we have $\\hat{x}$ it is very easy to find $p$. We see from the equations above that \n"
   ]
  },
  {
   "cell_type": "markdown",
   "metadata": {},
   "source": []
  }
 ],
 "metadata": {
  "kernelspec": {
   "display_name": "Python 3",
   "language": "python",
   "name": "python3"
  },
  "language_info": {
   "codemirror_mode": {
    "name": "ipython",
    "version": 3
   },
   "file_extension": ".py",
   "mimetype": "text/x-python",
   "name": "python",
   "nbconvert_exporter": "python",
   "pygments_lexer": "ipython3",
   "version": "3.4.3"
  }
 },
 "nbformat": 4,
 "nbformat_minor": 0
}
