{
 "cells": [
  {
   "cell_type": "markdown",
   "metadata": {},
   "source": [
    "# Projections and Projection Matrices"
   ]
  },
  {
   "cell_type": "markdown",
   "metadata": {},
   "source": [
    "## Projection to a Line"
   ]
  },
  {
   "cell_type": "code",
   "execution_count": 183,
   "metadata": {
    "collapsed": false,
    "hide_input": true
   },
   "outputs": [
    {
     "data": {
      "image/png": "[encoded data removed]",
      "text/plain": [
       "<matplotlib.figure.Figure at 0x108b532b0>"
      ]
     },
     "metadata": {},
     "output_type": "display_data"
    }
   ],
   "source": [
    "%matplotlib inline\n",
    "\n",
    "import matplotlib\n",
    "import numpy as np\n",
    "import matplotlib.pyplot as plt\n",
    "import math\n",
    "\n",
    "def pretti(v): return int(v) if v == math.floor(v) else v # print ints pretty\n",
    "def join(*args): return np.concatenate(args)\n",
    "def tos(v): return '(' + str(pretti(v[0])) + ', ' + str(pretti(v[1])) + ')'\n",
    "\n",
    "z = np.array([0, 0])\n",
    "b = np.array([5, 6])\n",
    "a = np.array([8, 2])\n",
    "p = a * (a.dot(b)/a.dot(a))\n",
    "e = b - p\n",
    "\n",
    "data = np.array([ join(z, a), join(z, b), join(p, e), join(z,p) ])\n",
    "\n",
    "X,Y,U,V = zip(*data)\n",
    "# X is an array that contains the x positions of all the vectors\n",
    "# Y contains the y position\n",
    "# U, V are arrays containing horizontal and vertical values of all vectors\n",
    "\n",
    "plt.figure(figsize=(6,6)) # initialize the figure\n",
    "ax = plt.gca() # get current axes\n",
    "\n",
    "# Quiver Docs\n",
    "# http://matplotlib.org/api/pyplot_api.html#matplotlib.pyplot.quiver\n",
    "ax.quiver(X, Y, U, V, angles='xy', scale_units='xy', scale=1)\n",
    "ax.set_xlim([-1, 10])\n",
    "ax.set_ylim([-1, 10])\n",
    "ax.set_aspect(1.)\n",
    "\n",
    "plt.text(5.7, 4, r'$\\vec{e} = \\vec{b}-\\vec{p} = \\vec{b}-\\hat{x}\\vec{a}$', size=18)\n",
    "plt.text(b[0], b[1] + 0.3 ,r'$\\vec{b}=' + tos(b) + '$', size=18)\n",
    "plt.text(a[0]-0.6, a[1] + 0.3 ,r'$\\vec{a}=' + tos(a) + '$', size=18)\n",
    "plt.text(p[0] - 0.3, p[1] - 0.8 ,r'$\\vec{p}=\\hat{x}\\vec{a}$', size=18)\n",
    "plt.show()"
   ]
  },
  {
   "cell_type": "markdown",
   "metadata": {},
   "source": [
    "## Calculate $e$ and $p$\n",
    "\n",
    "I will show two ways to calculate the projection. "
   ]
  },
  {
   "cell_type": "markdown",
   "metadata": {
    "collapsed": false,
    "hide_input": false
   },
   "source": [
    "\\begin{align}\n",
    "0 &= \\vec{e} \\bullet{}\\vec{a} && \\vec{e} \\perp \\vec{a} \\text{ so the dot product is zero}\\\\\n",
    "0 &= (\\vec{b}-\\hat{x}\\vec{a})\\bullet{}\\vec{a} && \\text{notice } \\vec{e} = \\vec{b}-\\vec{p} = \\vec{b}-\\hat{x}\\vec{a}\\\\\n",
    "0 &= \\vec{b}\\bullet \\vec{a} - \\vec{a} \\hat{x}\\bullet \\vec{a} && \\text{distribute } \\vec{a}\\\\\n",
    "0 &= (\\vec{b} \\bullet \\vec{a}) - \\hat{x} (\\vec{a} \\bullet \\vec{a}) && \n",
    "\\text{notice } \\hat{x} \\text{ is a scalar, so the last term can be } \\hat{x} \\vec{a} \\bullet \\vec{a}\\\\\n",
    "\\hat{x} (\\vec{a} \\bullet \\vec{a}) &= (\\vec{b} \\bullet \\vec{a})\\\\\n",
    "\\hat{x} &= \\dfrac{\\vec{b} \\bullet \\vec{a}}{\\vec{a} \\bullet \\vec{a}} \n",
    "\\implies \\vec{p} = \\dfrac{\\vec{b} \\bullet \\vec{a}}{\\vec{a} \\bullet \\vec{a}} \\vec{a} && \n",
    "\\text{because } \\vec{p} = \\hat{x}\\vec{a}\n",
    "\\end{align}"
   ]
  },
  {
   "cell_type": "markdown",
   "metadata": {},
   "source": [
    "We can summarize the projection to the matrix as, $\\vec{p} = P\\vec{b}$. This is easy to find if we present the equation the other way around. Notice that with vectors the order is inconsequential, because $\\vec{a} \\bullet \\vec{b} = \\vec{b} \\bullet \\vec{a}$"
   ]
  },
  {
   "cell_type": "markdown",
   "metadata": {
    "collapsed": false,
    "hide_input": false
   },
   "source": [
    "\\begin{align}\n",
    "0 &= \\vec{a} \\bullet \\vec{e} && \\vec{a}, \\vec{e} \\text{ on opposite sides}\\\\\n",
    "0 &= (\\vec{a} \\bullet \\vec{b}) - \\hat{x}(\\vec{a} \\bullet \\vec{a})\\\\\n",
    "\\hat{x}(\\vec{a} \\bullet \\vec{a}) &= (\\vec{a} \\bullet \\vec{b})\\\\\n",
    "\\hat{x} &= \\dfrac{\\vec{a} \\bullet \\vec{b}}{\\vec{a} \\bullet \\vec{b}} = \\dfrac{\\vec{a}^T\\vec{b}}{\\vec{a}^T\\vec{a}}\n",
    "\\end{align}"
   ]
  },
  {
   "cell_type": "markdown",
   "metadata": {},
   "source": [
    "With $\\hat{x}$ in this form, we can calculate the permutation matrix, $P$ from $\\vec{p} = P\\vec{b}$"
   ]
  },
  {
   "cell_type": "markdown",
   "metadata": {
    "collapsed": false,
    "hide_input": false
   },
   "source": [
    "\\begin{align}\n",
    "\\vec{p} &= \\vec{a}\\dfrac{\\vec{a}^T\\vec{b}}{\\vec{a}^T\\vec{a}}\\\\\n",
    "\\vec{p} &= \\dfrac{\\vec{a}\\vec{a}^T}{\\vec{a}^T\\vec{a}}\\vec{b}\n",
    "\\implies P = \\dfrac{\\vec{a}\\vec{a}^T}{\\vec{a}^T\\vec{a}} && \\text{because } \\vec{p}= P\\vec{b}\n",
    "\\end{align}"
   ]
  },
  {
   "cell_type": "markdown",
   "metadata": {},
   "source": [
    "## Project onto a plane\n",
    "\n",
    "Note that $\\vec{a}^T\\vec{a}$ in the denominator evaluates to a scalar. If we want to project onto a plane, the denominator becomes $A^TA$, which evaluates to a matrix.\n",
    "\n",
    "- Division by a matrix has no meaning. You cannot divide by a martix.\n",
    "- In arithmatic, we undo multiplication with division. \n",
    "- To undo the effects of a matrix multiplication, we multiply the inverse of the matrix. $A^{-1}A\\vec{b}=\\vec{b}$\n",
    "- We must re-arrange the equation so that we use inverse matrices instead of division. \n",
    "\n",
    "We can think of projecting onto a plane as projecting onto multiple vectors. To project $\\vec{b}$ onto $A$, we are looking for the vector $\\hat{x}$, such that $\\vec{p}=A\\hat{x}$, where $\\vec{p}$ is the point on the plane closest to $\\vec{b}$. The first step is to find the vector $\\hat{x}$.\n",
    "\n",
    "Like the first example, we define the error vector, $\\vec{e}$, as the vector that goes from the plane to $\\vec{b}$\n",
    "\n",
    "$\\vec{e} = \\vec{b} - A\\hat{x}$\n",
    "\n",
    "Now we want to find the closest point on $A$ to  $\\vec{b}$. If we consider $A$ to be a collection of vectors $(\\vec{a}_1, \\vec{a}_2)$, we can find the components of $\\hat{x}$ individually"
   ]
  },
  {
   "cell_type": "markdown",
   "metadata": {
    "collapsed": false,
    "hide_input": false
   },
   "source": [
    "\\begin{align}\n",
    "0 &= \\vec{a}_1^T\\vec{e}\\\\\n",
    "0 &= \\vec{a}_1^T(\\vec{b} - \\vec{a}_1\\hat{x}_1) && \\text{Verify! It could be }  \n",
    "\\vec{a}_1^T(\\vec{b} - A\\hat{x})\n",
    "\\end{align}"
   ]
  },
  {
   "cell_type": "markdown",
   "metadata": {},
   "source": [
    "Here $\\hat{x}_1$ is a scalar and it is the first component of our vector $\\hat{x}$. We can find the other component of $\\hat{x}$ by solving the same equation with $\\vec{a}_2$. There is a simple way to write the equation that captures all components at once.\n",
    "\n",
    "$A^T(\\vec{b}-A\\hat{x})$\n",
    "\n",
    "Which can be written as \n",
    "\n",
    "$A^T\\vec{b} = A^TA\\hat{x}$\n",
    "\n",
    "Which can be solved for $\\hat{x}$\n",
    "\n",
    "$(A^TA)^{-1}A^T\\vec{b} = \\hat{x}$\n",
    "\n"
   ]
  },
  {
   "cell_type": "code",
   "execution_count": null,
   "metadata": {
    "collapsed": true
   },
   "outputs": [],
   "source": []
  }
 ],
 "metadata": {
  "kernelspec": {
   "display_name": "Python 3",
   "language": "python",
   "name": "python3"
  },
  "language_info": {
   "codemirror_mode": {
    "name": "ipython",
    "version": 3
   },
   "file_extension": ".py",
   "mimetype": "text/x-python",
   "name": "python",
   "nbconvert_exporter": "python",
   "pygments_lexer": "ipython3",
   "version": "3.4.3"
  }
 },
 "nbformat": 4,
 "nbformat_minor": 0
}
